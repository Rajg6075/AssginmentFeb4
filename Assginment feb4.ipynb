{
 "cells": [
  {
   "cell_type": "code",
   "execution_count": null,
   "id": "76f6030b-d68f-4f88-8667-f422ade83eb6",
   "metadata": {},
   "outputs": [],
   "source": [
    "Q1. Create a python program to sort the given list of tuples based on integer value using a\n",
    "lambda function.\n",
    "[('Sachin Tendulkar', 34357), ('Ricky Ponting', 27483), ('Jack Kallis', 25534), ('Virat Kohli', 24936)]\n",
    "ANS==\n",
    "\n",
    "data = [('Sachin Tendulkar', 34357), ('Ricky Ponting', 27483), ('Jack Kallis', 25534), ('Virat Kohli', 24936)]\n",
    "\n",
    "sorted_data = sorted(data, key=lambda x: x[1])\n",
    "\n",
    "for item in sorted_data:\n",
    "    print(item)\n",
    "\n",
    "    \n",
    "output==\n",
    "\n",
    "('Virat Kohli', 24936)\n",
    "('Jack Kallis', 25534)\n",
    "('Ricky Ponting', 27483)\n",
    "('Sachin Tendulkar', 34357)\n",
    "\n"
   ]
  },
  {
   "cell_type": "code",
   "execution_count": null,
   "id": "31d2db5f-05f1-4832-a8ee-d812ed1d7c9a",
   "metadata": {},
   "outputs": [],
   "source": [
    "Q2. Write a Python Program to find the squares of all the numbers in the given list of integers using\n",
    "lambda and map functions.\n",
    "[1, 2, 3, 4, 5, 6, 7, 8, 9, 10]\n",
    "ANS==\n",
    "\n",
    "numbers = [1, 2, 3, 4, 5, 6, 7, 8, 9, 10]\n",
    "\n",
    "squared_numbers = list(map(lambda x: x**2, numbers))\n",
    "\n",
    "print(squared_numbers)\n",
    "\n",
    "Output==\n",
    "\n",
    "[1, 4, 9, 16, 25, 36, 49, 64, 81, 100]\n",
    "\n"
   ]
  },
  {
   "cell_type": "code",
   "execution_count": null,
   "id": "2b748ee3-a3fd-40e4-a8f1-e79a96d65231",
   "metadata": {},
   "outputs": [],
   "source": [
    "Q3. Write a python program to convert the given list of integers into a tuple of strings. Use map and\n",
    "lambda functions\n",
    "Given String: [1, 2, 3, 4, 5, 6, 7, 8, 9, 10]\n",
    "Expected output: ('1', '2', '3', '4', '5', '6', '7', '8', '9', '10')\n",
    "ANS==\n",
    "\n",
    "numbers = [1, 2, 3, 4, 5, 6, 7, 8, 9, 10]\n",
    "\n",
    "converted_tuple = tuple(map(lambda x: str(x), numbers))\n",
    "\n",
    "print(converted_tuple)\n",
    "\n",
    "OUTPUT==\n",
    "\n",
    "('1', '2', '3', '4', '5', '6', '7', '8', '9', '10')\n",
    "\n"
   ]
  },
  {
   "cell_type": "code",
   "execution_count": null,
   "id": "a2e55807-c818-4d64-bf7a-c36a4603c554",
   "metadata": {},
   "outputs": [],
   "source": [
    "Q4. Write a python program using reduce function to compute the product of a list containing numbers\n",
    "from 1 to 25.\n",
    "ANS==\n",
    "\n",
    "from functools import reduce\n",
    "\n",
    "numbers = list(range(1, 26))\n",
    "\n",
    "product = reduce(lambda x, y: x * y, numbers)\n",
    "\n",
    "print(product)\n",
    "\n",
    "Output==\n",
    "\n",
    "15511210043330985984000000\n"
   ]
  },
  {
   "cell_type": "code",
   "execution_count": null,
   "id": "fbfac7a0-cf1f-4b93-9eb1-11fef74abd59",
   "metadata": {},
   "outputs": [],
   "source": [
    "Q5. Write a python program to filter the numbers in a given list that are divisible by 2 and 3 using the\n",
    "filter function.\n",
    "[2, 3, 6, 9, 27, 60, 90, 120, 55, 46]\n",
    "ANS==\n",
    "\n",
    "numbers = [2, 3, 6, 9, 27, 60, 90, 120, 55, 46]\n",
    "\n",
    "filtered_numbers = list(filter(lambda x: x % 2 == 0 and x % 3 == 0, numbers))\n",
    "\n",
    "print(filtered_numbers)\n",
    "\n",
    "output==\n",
    "\n",
    "[6, 60, 90, 120]\n",
    "\n"
   ]
  },
  {
   "cell_type": "code",
   "execution_count": null,
   "id": "0647983f-34ff-4e7e-9e42-8f729b7c603a",
   "metadata": {},
   "outputs": [],
   "source": [
    "Q6. Write a python program to find palindromes in the given list of strings using lambda and filter\n",
    "function.\n",
    "['python', 'php', 'aba', 'radar', 'level']\n",
    "ANS==\n",
    "\n",
    "words = ['python', 'php', 'aba', 'radar', 'level']\n",
    "\n",
    "palindromes = list(filter(lambda x: x == x[::-1], words))\n",
    "\n",
    "print(palindromes)\n",
    "\n",
    "output==\n",
    "\n",
    "['aba', 'radar', 'level']\n"
   ]
  },
  {
   "cell_type": "code",
   "execution_count": null,
   "id": "5d29cb72-4436-4384-8e08-78bf6a2e8f00",
   "metadata": {},
   "outputs": [],
   "source": []
  }
 ],
 "metadata": {
  "kernelspec": {
   "display_name": "Python 3 (ipykernel)",
   "language": "python",
   "name": "python3"
  },
  "language_info": {
   "codemirror_mode": {
    "name": "ipython",
    "version": 3
   },
   "file_extension": ".py",
   "mimetype": "text/x-python",
   "name": "python",
   "nbconvert_exporter": "python",
   "pygments_lexer": "ipython3",
   "version": "3.10.8"
  }
 },
 "nbformat": 4,
 "nbformat_minor": 5
}
